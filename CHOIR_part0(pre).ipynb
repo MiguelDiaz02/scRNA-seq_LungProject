{
 "cells": [
  {
   "cell_type": "code",
   "execution_count": 1,
   "id": "3fa8023b-def4-46df-bc4a-43db5aa11e4a",
   "metadata": {},
   "outputs": [],
   "source": [
    "import warnings\n",
    "\n",
    "warnings.filterwarnings(\"ignore\")\n",
    "\n",
    "import matplotlib.pyplot as plt\n",
    "import seaborn as sns\n",
    "import scanpy as sc\n",
    "import pandas as pd\n",
    "import numpy as np\n",
    "import random\n",
    "import sc_toolbox\n",
    "\n",
    "import rpy2.rinterface_lib.callbacks\n",
    "import anndata2ri\n",
    "import logging\n",
    "\n",
    "from rpy2.robjects import pandas2ri\n",
    "from rpy2.robjects import r\n",
    "\n",
    "sc.settings.verbosity = 0\n",
    "rpy2.rinterface_lib.callbacks.logger.setLevel(logging.ERROR)\n",
    "\n",
    "pandas2ri.activate()\n",
    "anndata2ri.activate()\n",
    "\n",
    "%load_ext rpy2.ipython"
   ]
  },
  {
   "cell_type": "code",
   "execution_count": 2,
   "id": "cff300d5-9b85-4c22-86e1-574d6e5cab6c",
   "metadata": {},
   "outputs": [],
   "source": [
    "# Cargar tu AnnData\n",
    "adata = sc.read('/home/mdiaz/scRNA-seq_LungProject/atlas_reference/data/processed/anotado_modelo_nativo_celltypist.h5ad')"
   ]
  },
  {
   "cell_type": "code",
   "execution_count": 3,
   "id": "09520428-dc2e-4c07-94b9-e1c1d34d3a25",
   "metadata": {},
   "outputs": [
    {
     "data": {
      "text/plain": [
       "AnnData object with n_obs × n_vars = 78317 × 42771\n",
       "    obs: 'suspension_type', 'donor_id', 'is_primary_data', 'assay_ontology_term_id', 'cell_type_ontology_term_id', 'development_stage_ontology_term_id', 'disease_ontology_term_id', 'self_reported_ethnicity_ontology_term_id', 'tissue_ontology_term_id', 'organism_ontology_term_id', 'sex_ontology_term_id', \"3'_or_5'\", 'BMI', 'age_or_mean_of_age_range', 'age_range', 'anatomical_region_ccf_score', 'ann_coarse_for_GWAS_and_modeling', 'ann_finest_level', 'ann_level_1', 'ann_level_2', 'ann_level_3', 'ann_level_4', 'ann_level_5', 'cause_of_death', 'core_or_extension', 'dataset', 'fresh_or_frozen', 'log10_total_counts', 'lung_condition', 'mixed_ancestry', 'original_ann_level_1', 'original_ann_level_2', 'original_ann_level_3', 'original_ann_level_4', 'original_ann_level_5', 'original_ann_nonharmonized', 'reannotation_type', 'sample', 'scanvi_label', 'sequencing_platform', 'smoking_status', 'study', 'subject_type', 'tissue_coarse_unharmonized', 'tissue_detailed_unharmonized', 'tissue_dissociation_protocol', 'tissue_level_2', 'tissue_level_3', 'tissue_sampling_method', 'total_counts', 'transf_ann_level_1_label', 'transf_ann_level_1_uncert', 'transf_ann_level_2_label', 'transf_ann_level_2_uncert', 'transf_ann_level_3_label', 'transf_ann_level_3_uncert', 'transf_ann_level_4_label', 'transf_ann_level_4_uncert', 'transf_ann_level_5_label', 'transf_ann_level_5_uncert', 'tissue_type', 'cell_type', 'assay', 'disease', 'organism', 'sex', 'tissue', 'self_reported_ethnicity', 'development_stage', 'observation_joinid', 'condition_binary', 'predicted_labels', 'over_clustering', 'majority_voting', 'conf_score', 'final_label', 'final_conf'\n",
       "    uns: 'log1p', 'neighbors', 'over_clustering'\n",
       "    obsm: 'X_pca', 'X_scanvi_emb', 'X_umap'\n",
       "    layers: 'soupX'\n",
       "    obsp: 'connectivities', 'distances'"
      ]
     },
     "execution_count": 3,
     "metadata": {},
     "output_type": "execute_result"
    }
   ],
   "source": [
    "adata"
   ]
  },
  {
   "cell_type": "code",
   "execution_count": 4,
   "id": "3d519204-ece4-4d26-9379-1168aeae0539",
   "metadata": {},
   "outputs": [],
   "source": [
    "from scipy import sparse\n",
    "from scipy.io import mmwrite\n",
    "import pandas as pd\n",
    "\n",
    "# Extrae matriz de conteos\n",
    "counts = adata.raw.X if adata.raw is not None else adata.X\n",
    "\n",
    "# Transponer si está en formato sparse\n",
    "if sparse.issparse(counts):\n",
    "    mmwrite(\"counts.mtx\", counts.T)  # ← IMPORTANTE: transpuesta\n",
    "else:\n",
    "    pd.DataFrame(counts.T.toarray(), index=adata.var_names, columns=adata.obs_names).to_csv(\"counts.csv\")\n",
    "\n",
    "# Guardar nombres\n",
    "# genes = filas en R\n",
    "# Para los nombres de genes correspondientes a adata.raw.X\n",
    "gene_names = adata.raw.var_names if adata.raw is not None else adata.var_names\n",
    "gene_names.to_series().to_csv(\"genes.tsv\", sep=\"\\t\", index=False, header=False)\n",
    "\n",
    "# células = columnas en R\n",
    "adata.obs_names.to_series().to_csv(\"barcodes.tsv\", sep=\"\\t\", index=False, header=False)\n",
    "\n"
   ]
  }
 ],
 "metadata": {
  "kernelspec": {
   "display_name": "Python 3 (ipykernel)",
   "language": "python",
   "name": "python3"
  },
  "language_info": {
   "codemirror_mode": {
    "name": "ipython",
    "version": 3
   },
   "file_extension": ".py",
   "mimetype": "text/x-python",
   "name": "python",
   "nbconvert_exporter": "python",
   "pygments_lexer": "ipython3",
   "version": "3.9.18"
  }
 },
 "nbformat": 4,
 "nbformat_minor": 5
}
