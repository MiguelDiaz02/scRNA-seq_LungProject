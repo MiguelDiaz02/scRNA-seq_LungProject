{
 "cells": [
  {
   "cell_type": "code",
   "execution_count": null,
   "id": "36ca7e89-bb9d-4ceb-85ff-ca707daf3db9",
   "metadata": {},
   "outputs": [],
   "source": [
    "# Training celltypist model with the Human Lung Atlas for Idiopathic Fibrosis"
   ]
  },
  {
   "cell_type": "code",
   "execution_count": 1,
   "id": "8593b9c8-971a-4259-a34c-e2aa42a1eee3",
   "metadata": {},
   "outputs": [],
   "source": [
    "import scanpy as sc"
   ]
  },
  {
   "cell_type": "code",
   "execution_count": 1,
   "id": "d750585e-1c68-4d5e-a987-5b9db03ee9d6",
   "metadata": {},
   "outputs": [],
   "source": [
    "# -------------------------------------------------------- Filtrado por estudios \n",
    "# Seleccionamos el sub_anndata_muchari_budinger donde study == \"Mishari_Budinger_2018\"\n",
    "\n",
    "\n",
    "adata_subset = sc.read_h5ad(\"/home/mdiaz/scRNA-seq_LungProject/atlas_reference/data/processed/hlca_subset.h5ad\")\n",
    "\n",
    "sub_anndata_muchari_budinger = adata_subset[adata_subset.obs[\"study\"] == \"Misharin_Budinger_2018\"].copy()\n",
    "sub_anndata_complemento = adata_subset[adata_subset.obs[\"study\"] != \"Misharin_Budinger_2018\"].copy()\n",
    "\n",
    "\n"
   ]
  },
  {
   "cell_type": "code",
   "execution_count": 2,
   "id": "151f9e70-53af-47a4-993f-3754c961d61d",
   "metadata": {},
   "outputs": [],
   "source": [
    "sub_anndata_muchari_budinger.write_h5ad('/home/mdiaz/scRNA-seq_LungProject/atlas_reference/data/processed/SinAnotar_muchari_budinger.h5ad')"
   ]
  },
  {
   "cell_type": "code",
   "execution_count": 3,
   "id": "b9fd7747-8e66-4bb6-976c-7b7c17d3e02c",
   "metadata": {},
   "outputs": [],
   "source": [
    "sub_anndata_complemento.write_h5ad('/home/mdiaz/scRNA-seq_LungProject/atlas_reference/data/processed/HCA_IPF.h5ad')"
   ]
  },
  {
   "cell_type": "code",
   "execution_count": 10,
   "id": "313f3857-886e-468a-9d48-45eeac7b9327",
   "metadata": {},
   "outputs": [
    {
     "name": "stderr",
     "output_type": "stream",
     "text": [
      "/tmp/ipykernel_1808126/1869327746.py:11: FutureWarning: The default of observed=False is deprecated and will be changed to True in a future version of pandas. Pass observed=False to retain current behavior or observed=True to adopt the future default and silence this warning.\n",
      "  group_sizes = df.groupby([\"transf_ann_level_2_label\", \"donor_id\", \"lung_condition\"]).size()\n"
     ]
    }
   ],
   "source": [
    "import pandas as pd\n",
    "import numpy as np\n",
    "\n",
    "adata = sub_anndata_complemento\n",
    "df = adata.obs[[\"transf_ann_level_2_label\", \"donor_id\", \"lung_condition\"]].copy()\n",
    "\n",
    "# Tamaño total deseado\n",
    "n_total = 500_000\n",
    "\n",
    "# Agrupamos por la combinación de interés\n",
    "group_sizes = df.groupby([\"transf_ann_level_2_label\", \"donor_id\", \"lung_condition\"]).size()\n",
    "group_fracs = group_sizes / group_sizes.sum()\n",
    "n_per_group = (group_fracs * n_total).round().astype(int)\n",
    "\n",
    "# Submuestreo respetando combinaciones\n",
    "sampled_indices = []\n",
    "rng = np.random.default_rng(seed=42)\n",
    "\n",
    "for (ctype, donor, condition), n in n_per_group.items():\n",
    "    group_idx = df[\n",
    "        (df[\"transf_ann_level_2_label\"] == ctype) &\n",
    "        (df[\"donor_id\"] == donor) &\n",
    "        (df[\"lung_condition\"] == condition)\n",
    "    ].index\n",
    "\n",
    "    if len(group_idx) >= n:\n",
    "        sampled = rng.choice(group_idx, size=n, replace=False)\n",
    "    else:\n",
    "        sampled = group_idx  # Si hay menos de las que se querían, toma todas\n",
    "    sampled_indices.extend(sampled)\n",
    "\n",
    "# Crear nuevo AnnData con la submuestra\n",
    "adata_sampled = adata[sampled_indices].copy()\n"
   ]
  },
  {
   "cell_type": "code",
   "execution_count": 11,
   "id": "aefa36a6-d464-4653-bfd6-9ece87ae53da",
   "metadata": {},
   "outputs": [],
   "source": [
    "adata_sampled.write_h5ad('/home/mdiaz/scRNA-seq_LungProject/atlas_reference/data/processed/HCA_IPF_medioMillon.h5ad')"
   ]
  },
  {
   "cell_type": "code",
   "execution_count": 12,
   "id": "2f8c0887-3f2d-43e9-973e-c587d8168384",
   "metadata": {},
   "outputs": [
    {
     "data": {
      "text/plain": [
       "AnnData object with n_obs × n_vars = 499898 × 56239\n",
       "    obs: 'suspension_type', 'donor_id', 'is_primary_data', 'assay_ontology_term_id', 'cell_type_ontology_term_id', 'development_stage_ontology_term_id', 'disease_ontology_term_id', 'self_reported_ethnicity_ontology_term_id', 'tissue_ontology_term_id', 'organism_ontology_term_id', 'sex_ontology_term_id', \"3'_or_5'\", 'BMI', 'age_or_mean_of_age_range', 'age_range', 'anatomical_region_ccf_score', 'ann_coarse_for_GWAS_and_modeling', 'ann_finest_level', 'ann_level_1', 'ann_level_2', 'ann_level_3', 'ann_level_4', 'ann_level_5', 'cause_of_death', 'core_or_extension', 'dataset', 'fresh_or_frozen', 'log10_total_counts', 'lung_condition', 'mixed_ancestry', 'original_ann_level_1', 'original_ann_level_2', 'original_ann_level_3', 'original_ann_level_4', 'original_ann_level_5', 'original_ann_nonharmonized', 'reannotation_type', 'sample', 'scanvi_label', 'sequencing_platform', 'smoking_status', 'study', 'subject_type', 'tissue_coarse_unharmonized', 'tissue_detailed_unharmonized', 'tissue_dissociation_protocol', 'tissue_level_2', 'tissue_level_3', 'tissue_sampling_method', 'total_counts', 'transf_ann_level_1_label', 'transf_ann_level_1_uncert', 'transf_ann_level_2_label', 'transf_ann_level_2_uncert', 'transf_ann_level_3_label', 'transf_ann_level_3_uncert', 'transf_ann_level_4_label', 'transf_ann_level_4_uncert', 'transf_ann_level_5_label', 'transf_ann_level_5_uncert', 'tissue_type', 'cell_type', 'assay', 'disease', 'organism', 'sex', 'tissue', 'self_reported_ethnicity', 'development_stage', 'observation_joinid', 'condition_binary'\n",
       "    obsm: 'X_scanvi_emb', 'X_umap'\n",
       "    layers: 'soupX'"
      ]
     },
     "execution_count": 12,
     "metadata": {},
     "output_type": "execute_result"
    }
   ],
   "source": [
    "adata_sampled "
   ]
  },
  {
   "cell_type": "raw",
   "id": "42fb8552-50ea-451a-b8fd-5f029e212ccb",
   "metadata": {},
   "source": [
    "# ---------------------------------------------------------- Entrenamiento del modelo para anotación\n",
    "# Paso 1: Filtrar y Normalizar total a 10,000 counts por célula\n",
    "sc.pp.filter_genes(sub_anndata_complemento, min_cells=3)\n",
    "sc.pp.normalize_total(sub_anndata_complemento, target_sum=1e4)\n",
    "\n",
    "# Paso 2: Log-transformación (log1p = log(1 + x))\n",
    "sc.pp.log1p(sub_anndata_complemento)\n"
   ]
  },
  {
   "cell_type": "raw",
   "id": "835c1fb9-e57f-4776-8979-e2450bfe4c6c",
   "metadata": {},
   "source": [
    "from celltypist import train\n",
    "\n",
    "# Extraer datos de entrada y etiquetas explícitamente\n",
    "X = sub_anndata_complemento\n",
    "y = sub_anndata_complemento.obs['cell_type'].tolist()\n",
    "\n",
    "model = train(\n",
    "    X,                 # El AnnData completo\n",
    "    labels=y,          # Vector de etiquetas como lista\n",
    "    model_name='modelo_complemento_HCA_IPF',\n",
    "    output='./',\n",
    "    max_iter=1000,\n",
    "    n_jobs=50,\n",
    "    verbose=True\n",
    ")\n",
    "\n",
    "# Guardar el modelo entrenado\n",
    "model.write('modelo_complemento_HCA_IPF.pkl')"
   ]
  },
  {
   "cell_type": "code",
   "execution_count": null,
   "id": "18e26387-6513-4695-9b7e-aa4abfeff980",
   "metadata": {},
   "outputs": [],
   "source": [
    "models.models_description()"
   ]
  },
  {
   "cell_type": "code",
   "execution_count": 3,
   "id": "33c9ff55-b3e7-4402-9b43-5e928cc9e6f0",
   "metadata": {},
   "outputs": [],
   "source": [
    "adata = sc.read_h5ad('/home/mdiaz/scRNA-seq_LungProject/atlas_reference/data/processed/adata_millonYmedio_anotado_muchari_budinger.h5ad')"
   ]
  },
  {
   "cell_type": "code",
   "execution_count": 4,
   "id": "705b81d9-19a7-4e21-bcdb-6ccd1409d690",
   "metadata": {},
   "outputs": [
    {
     "data": {
      "text/plain": [
       "predicted_labels\n",
       "B cell                                                    533\n",
       "CD1c-positive myeloid dendritic cell                       26\n",
       "CD4-positive, alpha-beta T cell                           842\n",
       "CD8-positive, alpha-beta T cell                           505\n",
       "alveolar adventitial fibroblast                             1\n",
       "alveolar macrophage                                      1231\n",
       "alveolar type 1 fibroblast cell                            77\n",
       "capillary endothelial cell                                153\n",
       "classical monocyte                                       1190\n",
       "club cell                                                   1\n",
       "endothelial cell of lymphatic vessel                       99\n",
       "mast cell                                                 496\n",
       "multiciliated columnar cell of tracheobronchial tree     1356\n",
       "natural killer cell                                        68\n",
       "non-classical monocyte                                     44\n",
       "plasma cell                                              1362\n",
       "plasmacytoid dendritic cell                                 1\n",
       "pulmonary alveolar type 1 cell                            584\n",
       "pulmonary alveolar type 2 cell                           2397\n",
       "pulmonary artery endothelial cell                          17\n",
       "pulmonary neuroendocrine cell                               4\n",
       "respiratory basal cell                                    145\n",
       "unknown                                                 67130\n",
       "vein endothelial cell                                      55\n",
       "Name: count, dtype: int64"
      ]
     },
     "execution_count": 4,
     "metadata": {},
     "output_type": "execute_result"
    }
   ],
   "source": [
    "adata.obs['predicted_labels'].value_counts().sort_index()"
   ]
  },
  {
   "cell_type": "code",
   "execution_count": null,
   "id": "3e1a22b8-a08a-44c8-be32-ccc17a444daa",
   "metadata": {},
   "outputs": [],
   "source": []
  },
  {
   "cell_type": "code",
   "execution_count": null,
   "id": "514f0644-9f43-4491-a735-c435c1123862",
   "metadata": {},
   "outputs": [],
   "source": []
  },
  {
   "cell_type": "code",
   "execution_count": null,
   "id": "ccc366bd-41da-408d-9c69-da649a7ff150",
   "metadata": {},
   "outputs": [],
   "source": []
  }
 ],
 "metadata": {
  "kernelspec": {
   "display_name": "Python (sc_kernel)",
   "language": "python",
   "name": "sc_kernel"
  },
  "language_info": {
   "codemirror_mode": {
    "name": "ipython",
    "version": 3
   },
   "file_extension": ".py",
   "mimetype": "text/x-python",
   "name": "python",
   "nbconvert_exporter": "python",
   "pygments_lexer": "ipython3",
   "version": "3.9.18"
  }
 },
 "nbformat": 4,
 "nbformat_minor": 5
}
